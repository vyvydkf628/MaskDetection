{
 "cells": [
  {
   "cell_type": "code",
   "execution_count": null,
   "metadata": {},
   "outputs": [],
   "source": [
    "from PIL import Image, ImageOps\n",
    "import numpy as np\n",
    "\n",
    "import tensorflow.keras\n",
    "import argparse\n",
    "import json\n",
    "import pandas\n",
    "import os\n",
    "\n",
    "parser = argparse.ArgumentParser(description='predict mask')\n",
    "parser.add_argument('--image', type=str, default=320,\n",
    "                    help='input image')\n",
    "args = parser.parse_args()\n",
    "# Disable scientific notation for clarity\n",
    "np.set_printoptions(suppress=True)\n",
    "\n",
    "# Load the model\n",
    "model = tensorflow.keras.models.load_model('~/src/py/keras_model.h5')\n",
    "\n",
    "# Create the array of the right shape to feed into the keras model\n",
    "# The 'length' or number of images you can put into the array is\n",
    "# determined by the first position in the shape tuple, in this case 1.\n",
    "data = np.ndarray(shape=(1, 224, 224, 3), dtype=np.float32)\n",
    "# Replace this with the path to your image\n",
    "accuracy_score_masked= []\n",
    "accuracy_score= []\n",
    "ismasked = []\n",
    "\n",
    "\n",
    "\n",
    "print(json.dumps(result))\n"
   ]
  },
  {
   "cell_type": "code",
   "execution_count": null,
   "metadata": {},
   "outputs": [],
   "source": [
    "for root, dirs, files in os.walk('~/src/mask/out/', topdown=False):\n",
    "    for name in files:\n",
    "        image_path = os.path.join(root, name)\n",
    "        if(\"masked\" in name):\n",
    "            ismasked.append(True)\n",
    "        else :\n",
    "            ismasked.append(False)\n",
    "        \n",
    "\n",
    "        print(image_path)\n",
    "        image= Image.open(image_path)\n",
    "        #resize the image to a 224x224 with the same strategy as in TM2:\n",
    "        #resizing the image to be at least 224x224 and then cropping from the center\n",
    "        size = (224, 224)\n",
    "        image = ImageOps.fit(image, size, Image.ANTIALIAS)\n",
    "\n",
    "        #turn the image into a numpy array\n",
    "        image_array = np.asarray(image)\n",
    "\n",
    "        # display the resized image\n",
    "        # image.show()\n",
    "\n",
    "        # Normalize the image\n",
    "        normalized_image_array = (image_array.astype(np.float32) / 127.0) - 1\n",
    "\n",
    "        # Load the image into the array\n",
    "        data[0] = normalized_image_array\n",
    "\n",
    "        # run the inference\n",
    "        prediction = model.predict(data)\n",
    "        accuracy_score.append(round(prediction[0][0],10))\n",
    "\n",
    "        accuracy_score_masked.append(round(prediction[0][1],10))\n"
   ]
  },
  {
   "cell_type": "code",
   "execution_count": null,
   "metadata": {},
   "outputs": [],
   "source": [
    "df= pd.DataFrame()\n",
    "df['ismasked']= ismasked\n",
    "df['accuracy_score'] = accuracy_score\n",
    "df['accuracy_score_masked'] = accuracy_score_masked\n",
    "\n",
    "df.head()\n"
   ]
  },
  {
   "cell_type": "code",
   "execution_count": null,
   "metadata": {},
   "outputs": [],
   "source": [
    "df.describe()"
   ]
  }
 ],
 "metadata": {
  "kernelspec": {
   "display_name": "Python 3",
   "language": "python",
   "name": "python3"
  },
  "language_info": {
   "codemirror_mode": {
    "name": "ipython",
    "version": 3
   },
   "file_extension": ".py",
   "mimetype": "text/x-python",
   "name": "python",
   "nbconvert_exporter": "python",
   "pygments_lexer": "ipython3",
   "version": "3.7.7"
  }
 },
 "nbformat": 4,
 "nbformat_minor": 4
}
